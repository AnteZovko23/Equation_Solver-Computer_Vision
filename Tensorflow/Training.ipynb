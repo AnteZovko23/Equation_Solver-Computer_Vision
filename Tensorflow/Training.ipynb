{
  "nbformat": 4,
  "nbformat_minor": 0,
  "metadata": {
    "colab": {
      "name": "Training",
      "provenance": [],
      "collapsed_sections": []
    },
    "kernelspec": {
      "name": "python3",
      "display_name": "Python 3"
    },
    "language_info": {
      "name": "python"
    }
  },
  "cells": [
    {
      "cell_type": "code",
      "source": [
        "!unzip /content/dataset"
      ],
      "metadata": {
        "id": "bmu9PqJLkYto"
      },
      "execution_count": null,
      "outputs": []
    },
    {
      "cell_type": "code",
      "execution_count": null,
      "metadata": {
        "id": "38i8RyIw4e_i"
      },
      "outputs": [],
      "source": [
        "\"\"\"\n",
        "Author: Ante Zovko\n",
        "Date: Jan 3rd, 2022\n",
        "Description: Convolutional Neural Network that recognizes handwritten mathematical symbols\n",
        "[(', ')', '+', '-', '0', '1', '2', '3', '4', '5', '6', '7', '8', '9','/', 'x']\n",
        "\n",
        "Dataset: Obtained from kaggle.com https://www.kaggle.com/xainano/handwrittenmathsymbols\n",
        "\n",
        "\"\"\"\n",
        "\n",
        "import tensorflow as tf\n",
        "from tensorflow.keras.models import Sequential\n",
        "from tensorflow.keras.layers import Dense, Dropout, Activation, Flatten, Conv2D, MaxPooling2D\n",
        "from google.colab import drive\n",
        "\n",
        "import cv2\n",
        "\n",
        "dataset_location = 'dataset'\n",
        "\n"
      ]
    },
    {
      "cell_type": "code",
      "source": [
        "from tensorflow.python.keras.engine import training\n",
        "# Training dataset\n",
        "training_dataset = tf.keras.utils.image_dataset_from_directory(\n",
        "  dataset_location,\n",
        "  labels='inferred',\n",
        "  label_mode='categorical',\n",
        "  class_names=['(', ')', '+', '-', '0', '1', '2', '3', '4', '5', '6', '7', '8', '9','forward_slash', 'times'],\n",
        "  color_mode='grayscale',\n",
        "  batch_size=128,\n",
        "  image_size=(45, 45),\n",
        "  shuffle=True,\n",
        "  seed=42,\n",
        "  validation_split=0.2,\n",
        "  subset=\"training\")\n",
        "\n"
      ],
      "metadata": {
        "colab": {
          "base_uri": "https://localhost:8080/"
        },
        "id": "piOJ8XX5IXv_",
        "outputId": "b0502cd2-ce92-4cf9-fc54-08bacebf173d"
      },
      "execution_count": null,
      "outputs": [
        {
          "output_type": "stream",
          "name": "stdout",
          "text": [
            "Found 185465 files belonging to 16 classes.\n",
            "Using 148372 files for training.\n"
          ]
        }
      ]
    },
    {
      "cell_type": "code",
      "source": [
        "# validation dataset\n",
        "validation_dataset = tf.keras.utils.image_dataset_from_directory(\n",
        "  dataset_location,\n",
        "  labels='inferred',\n",
        "  label_mode='categorical',\n",
        "  class_names=['(', ')', '+', '-', '0', '1', '2', '3', '4', '5', '6', '7', '8', '9','forward_slash', 'times'],\n",
        "  color_mode='grayscale',\n",
        "  batch_size=128,\n",
        "  image_size=(45, 45),\n",
        "  shuffle=True,\n",
        "  seed=42,\n",
        "  validation_split=0.2,\n",
        "  subset=\"validation\")"
      ],
      "metadata": {
        "colab": {
          "base_uri": "https://localhost:8080/"
        },
        "id": "Em7zG70pJjCr",
        "outputId": "0005faa3-3e4d-4184-d37e-1f8a38ad7cfd"
      },
      "execution_count": null,
      "outputs": [
        {
          "output_type": "stream",
          "name": "stdout",
          "text": [
            "Found 185465 files belonging to 16 classes.\n",
            "Using 37093 files for validation.\n"
          ]
        }
      ]
    },
    {
      "cell_type": "code",
      "source": [
        "# Running on a GPU\n",
        "# Model compilation\n",
        "\n",
        "model = Sequential()\n",
        "\n",
        "model.add(tf.keras.Input(shape=(45,45,1)))\n",
        "tf.keras.layers.Rescaling(1./255)\n",
        "\n",
        "model.add(Conv2D(32, (2, 2)))\n",
        "model.add(Activation('relu'))\n",
        "model.add(MaxPooling2D(pool_size =(2, 2))) \n",
        "\t\t\n",
        "model.add(Conv2D(32, (2, 2))) \n",
        "model.add(Activation('relu')) \n",
        "model.add(MaxPooling2D(pool_size =(2, 2))) \n",
        "\t\t\n",
        "model.add(Conv2D(64, (2, 2))) \n",
        "model.add(Activation('relu')) \n",
        "model.add(MaxPooling2D(pool_size =(2, 2))) \n",
        "\t\t\n",
        "model.add(Flatten()) \n",
        "model.add(Dense(64)) \n",
        "model.add(Activation('relu')) \n",
        "model.add(Dropout(0.5)) \n",
        "model.add(Dense(16)) \n",
        "model.add(Activation('softmax'))\n",
        "  \n",
        "model.compile(optimizer=tf.keras.optimizers.Adam(), loss=tf.keras.losses.CategoricalCrossentropy(), metrics=[\"accuracy\"])\n",
        "\n",
        "model.fit(training_dataset, validation_data=validation_dataset, epochs=10, callbacks=[tf.keras.callbacks.EarlyStopping(monitor='val_accuracy', patience=5)])\n",
        "\n",
        "model.summary()\n",
        "\n"
      ],
      "metadata": {
        "colab": {
          "base_uri": "https://localhost:8080/"
        },
        "id": "xoImUR7AfFNq",
        "outputId": "7b1df1f0-ba31-4b9f-cb5b-4039089bfc2e"
      },
      "execution_count": null,
      "outputs": [
        {
          "output_type": "stream",
          "name": "stdout",
          "text": [
            "Epoch 1/10\n",
            "1160/1160 [==============================] - 81s 62ms/step - loss: 2.3752 - accuracy: 0.2321 - val_loss: 1.9561 - val_accuracy: 0.3802\n",
            "Epoch 2/10\n",
            "1160/1160 [==============================] - 71s 61ms/step - loss: 2.0777 - accuracy: 0.2912 - val_loss: 1.4077 - val_accuracy: 0.6072\n",
            "Epoch 3/10\n",
            "1160/1160 [==============================] - 71s 61ms/step - loss: 0.9795 - accuracy: 0.6882 - val_loss: 0.2351 - val_accuracy: 0.9356\n",
            "Epoch 4/10\n",
            "1160/1160 [==============================] - 71s 61ms/step - loss: 0.4595 - accuracy: 0.8534 - val_loss: 0.1434 - val_accuracy: 0.9598\n",
            "Epoch 5/10\n",
            "1160/1160 [==============================] - 71s 61ms/step - loss: 0.3608 - accuracy: 0.8849 - val_loss: 0.1248 - val_accuracy: 0.9646\n",
            "Epoch 6/10\n",
            "1160/1160 [==============================] - 70s 60ms/step - loss: 0.3128 - accuracy: 0.9018 - val_loss: 0.1041 - val_accuracy: 0.9707\n",
            "Epoch 7/10\n",
            "1160/1160 [==============================] - 71s 61ms/step - loss: 0.2764 - accuracy: 0.9128 - val_loss: 0.0916 - val_accuracy: 0.9734\n",
            "Epoch 8/10\n",
            "1160/1160 [==============================] - 72s 62ms/step - loss: 0.2542 - accuracy: 0.9180 - val_loss: 0.0838 - val_accuracy: 0.9760\n",
            "Epoch 9/10\n",
            "1160/1160 [==============================] - 72s 62ms/step - loss: 0.2373 - accuracy: 0.9229 - val_loss: 0.0808 - val_accuracy: 0.9775\n",
            "Epoch 10/10\n",
            "1160/1160 [==============================] - 73s 62ms/step - loss: 0.2187 - accuracy: 0.9297 - val_loss: 0.0737 - val_accuracy: 0.9783\n",
            "Model: \"sequential\"\n",
            "_________________________________________________________________\n",
            " Layer (type)                Output Shape              Param #   \n",
            "=================================================================\n",
            " conv2d (Conv2D)             (None, 44, 44, 32)        160       \n",
            "                                                                 \n",
            " activation (Activation)     (None, 44, 44, 32)        0         \n",
            "                                                                 \n",
            " max_pooling2d (MaxPooling2D  (None, 22, 22, 32)       0         \n",
            " )                                                               \n",
            "                                                                 \n",
            " conv2d_1 (Conv2D)           (None, 21, 21, 32)        4128      \n",
            "                                                                 \n",
            " activation_1 (Activation)   (None, 21, 21, 32)        0         \n",
            "                                                                 \n",
            " max_pooling2d_1 (MaxPooling  (None, 10, 10, 32)       0         \n",
            " 2D)                                                             \n",
            "                                                                 \n",
            " conv2d_2 (Conv2D)           (None, 9, 9, 64)          8256      \n",
            "                                                                 \n",
            " activation_2 (Activation)   (None, 9, 9, 64)          0         \n",
            "                                                                 \n",
            " max_pooling2d_2 (MaxPooling  (None, 4, 4, 64)         0         \n",
            " 2D)                                                             \n",
            "                                                                 \n",
            " flatten (Flatten)           (None, 1024)              0         \n",
            "                                                                 \n",
            " dense (Dense)               (None, 64)                65600     \n",
            "                                                                 \n",
            " activation_3 (Activation)   (None, 64)                0         \n",
            "                                                                 \n",
            " dropout (Dropout)           (None, 64)                0         \n",
            "                                                                 \n",
            " dense_1 (Dense)             (None, 16)                1040      \n",
            "                                                                 \n",
            " activation_4 (Activation)   (None, 16)                0         \n",
            "                                                                 \n",
            "=================================================================\n",
            "Total params: 79,184\n",
            "Trainable params: 79,184\n",
            "Non-trainable params: 0\n",
            "_________________________________________________________________\n"
          ]
        }
      ]
    },
    {
      "cell_type": "code",
      "source": [
        "!zip -r /content/saved_model saved_model"
      ],
      "metadata": {
        "colab": {
          "base_uri": "https://localhost:8080/"
        },
        "id": "PrQreMiaGly-",
        "outputId": "7ffcf827-ae5d-49e7-d42f-0bc2158a3507"
      },
      "execution_count": null,
      "outputs": [
        {
          "output_type": "stream",
          "name": "stdout",
          "text": [
            "  adding: saved_model/ (stored 0%)\n",
            "  adding: saved_model/my_model/ (stored 0%)\n",
            "  adding: saved_model/my_model/keras_metadata.pb (deflated 92%)\n",
            "  adding: saved_model/my_model/saved_model.pb (deflated 89%)\n",
            "  adding: saved_model/my_model/assets/ (stored 0%)\n",
            "  adding: saved_model/my_model/variables/ (stored 0%)\n",
            "  adding: saved_model/my_model/variables/variables.index (deflated 68%)\n",
            "  adding: saved_model/my_model/variables/variables.data-00000-of-00001 (deflated 18%)\n"
          ]
        }
      ]
    },
    {
      "cell_type": "code",
      "source": [
        "\n",
        "loss, acc = model.evaluate(validation_dataset, verbose=2)\n",
        "print(\"Untrained model, accuracy: {:5.2f}%\".format(100 * acc))\n",
        "\n",
        "# Save the entire model as a SavedModel.\n",
        "!mkdir -p saved_model\n",
        "model.save('saved_model/my_model')\n"
      ],
      "metadata": {
        "colab": {
          "base_uri": "https://localhost:8080/"
        },
        "id": "ztg03LnBmFjz",
        "outputId": "1a71ccd7-7fb5-4626-c268-ccc1c8638430"
      },
      "execution_count": null,
      "outputs": [
        {
          "output_type": "stream",
          "name": "stdout",
          "text": [
            "290/290 - 21s - loss: 0.0737 - accuracy: 0.9783 - 21s/epoch - 74ms/step\n",
            "Untrained model, accuracy: 97.83%\n",
            "INFO:tensorflow:Assets written to: saved_model/my_model/assets\n"
          ]
        }
      ]
    }
  ]
}